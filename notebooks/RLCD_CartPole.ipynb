{
 "cells": [
  {
   "cell_type": "code",
   "execution_count": 107,
   "metadata": {},
   "outputs": [],
   "source": [
    "import numpy as np\n",
    "import gymnasium as gym\n",
    "import rlenvs\n",
    "\n",
    "# from scipy.special import softmax\n",
    "# import pandas as pd\n",
    "\n",
    "from rlcd.model import *"
   ]
  },
  {
   "cell_type": "code",
   "execution_count": null,
   "metadata": {},
   "outputs": [],
   "source": [
    "def discretize(s):\n",
    "    cart_position, cart_velocity, pole_angle, angular_velocity = s\n",
    "    \n",
    "    def discretize_cart_velocity(val, factor=0.2, size=20):\n",
    "        limit = (factor*size/2)\n",
    "        if val < -limit: return 0\n",
    "        elif val > limit: return size-1\n",
    "        else: return int((val + factor*size/2)//factor)\n",
    "    \n",
    "    return (0, \n",
    "            discretize_cart_velocity(cart_velocity)\n",
    "    )\n"
   ]
  },
  {
   "cell_type": "code",
   "execution_count": null,
   "metadata": {},
   "outputs": [],
   "source": [
    "n=500\n",
    "\n",
    "# env = gym.make(\"custom/CartPole-v1\", render_mode=\"human\")\n",
    "env = gym.make(\"custom/CartPole-v1\")\n",
    "env.action_space.seed(82)\n",
    "\n",
    "model = RLCD([s for s in range()], [0,1])\n",
    "\n",
    "observation, info = env.reset(seed=82, masspole=.45, length=1.0)\n",
    "hist_s = [observation]\n",
    "hist_a = []"
   ]
  },
  {
   "cell_type": "code",
   "execution_count": null,
   "metadata": {},
   "outputs": [],
   "source": [
    "for _ in range(n):\n",
    "    # action = env.action_space.sample()\n",
    "    # action = 1\n",
    "    action = int(input())-1\n",
    "    if not(action in [0,1]):\n",
    "        break\n",
    "    # print('action: ', action)\n",
    "    observation,reward, terminated, truncated, info = env.step(action)\n",
    "    # print(\"observation : \",observation);\n",
    "    \n",
    "    hist_s.append(observation)\n",
    "    hist_a.append(action)\n",
    "\n",
    "    if terminated or truncated:\n",
    "        break\n",
    "        # observation, info = env.reset()\n",
    "        \n",
    "env.close()"
   ]
  },
  {
   "cell_type": "code",
   "execution_count": 112,
   "metadata": {},
   "outputs": [
    {
     "data": {
      "text/plain": [
       "1"
      ]
     },
     "execution_count": 112,
     "metadata": {},
     "output_type": "execute_result"
    }
   ],
   "source": [
    "# model = RLCD([0,1], [0], Emin=-0.000001)\n",
    "model = RLCD([0,1], [0])\n",
    "\n",
    "s = None\n",
    "for s_ in data:\n",
    "    if s is None:\n",
    "        pass\n",
    "    else:\n",
    "        model.learn(s,0,s_,0, log=False)\n",
    "    s = s_\n",
    "\n",
    "model.sample(0,0)[0]"
   ]
  },
  {
   "cell_type": "code",
   "execution_count": 113,
   "metadata": {},
   "outputs": [
    {
     "data": {
      "text/plain": [
       "3.0"
      ]
     },
     "execution_count": 113,
     "metadata": {},
     "output_type": "execute_result"
    }
   ],
   "source": [
    "float(np.float64(3.0))"
   ]
  },
  {
   "cell_type": "code",
   "execution_count": 114,
   "metadata": {},
   "outputs": [
    {
     "name": "stdout",
     "output_type": "stream",
     "text": [
      "# p/ modelo:  [906, 798, 295]\n",
      "s=0 e s_=1 por modelo: # [0.0, 100.0, 0.0] p= [0.5, 0.999, 0.001]\n",
      "s=1 e s_=1 por modelo: # [100.0, 0.0, 0.0] p= [1.0, 0.0, 0.5]\n",
      "s=0 e s_=0 por modelo: # [0.0, 1.0, 100.0] p= [0.5, 0.001, 0.999]\n",
      "s=1 e s_=0 por modelo: # [0.0, 100.0, 0.0] p= [0.0, 1.0, 0.5]\n"
     ]
    }
   ],
   "source": [
    "print(\"# p/ modelo: \", [m.N for m in model.Models])\n",
    "print(\n",
    "    \"s=0 e s_=1 por modelo:\",\n",
    "    '#', [float(round(m.t.n[0,0,1],3)) for m in model.Models],\n",
    "    'p=', [float(round(m.t.v[0,0,1],3)) for m in model.Models]\n",
    "\n",
    ")\n",
    "\n",
    "print(\n",
    "    \"s=1 e s_=1 por modelo:\",\n",
    "    '#', [float(round(m.t.n[1,0,1],3)) for m in model.Models],\n",
    "    'p=', [float(round(m.t.v[1,0,1],3)) for m in model.Models]\n",
    ")\n",
    "print(\n",
    "    \"s=0 e s_=0 por modelo:\",\n",
    "    '#', [float(round(m.t.n[0,0,0],3)) for m in model.Models],\n",
    "    'p=', [float(round(m.t.v[0,0,0],3)) for m in model.Models]\n",
    ")\n",
    "\n",
    "print(\n",
    "    \"s=1 e s_=0 por modelo:\",\n",
    "    '#', [float(round(m.t.n[1,0,0],3)) for m in model.Models],\n",
    "    'p=', [float(round(m.t.v[1,0,0],3)) for m in model.Models]\n",
    ")"
   ]
  },
  {
   "cell_type": "markdown",
   "metadata": {},
   "source": [
    "# Samples"
   ]
  },
  {
   "cell_type": "code",
   "execution_count": 115,
   "metadata": {},
   "outputs": [
    {
     "name": "stdout",
     "output_type": "stream",
     "text": [
      "# p/ modelo:  [906, 798, 295]\n",
      "Prob. s=0 e s_=1 por modelo: [0.509, 1.0, 0.001]\n",
      "Prob. s=1 e s_=1 por modelo: [1.0, 0.0, 0.5]\n",
      "Prob. s=0 e s_=0 por modelo: [0.513, 0.001, 0.999]\n",
      "Prob. s=1 e s_=0 por modelo: [0.0, 0.999, 0.495]\n"
     ]
    }
   ],
   "source": [
    "print(\"# p/ modelo: \", [m.N for m in model.Models])\n",
    "\n",
    "n = 1000\n",
    "print(\n",
    "    \"Prob. s=0 e s_=1 por modelo:\",\n",
    "    [\n",
    "        sum([m.sample(0,0)[0] for _ in range(n)])/n\n",
    "        for m in model.Models\n",
    "    ]\n",
    ")\n",
    "\n",
    "print(\n",
    "    \"Prob. s=1 e s_=1 por modelo:\",\n",
    "    [\n",
    "        sum([m.sample(1,0)[0] for _ in range(n)])/n\n",
    "        for m in model.Models\n",
    "    ]\n",
    ")\n",
    "print(\n",
    "    \"Prob. s=0 e s_=0 por modelo:\",\n",
    "    [\n",
    "        sum([1-m.sample(0,0)[0] for _ in range(n)])/n\n",
    "        for m in model.Models\n",
    "    ]\n",
    ")\n",
    "\n",
    "print(\n",
    "    \"Prob. s=1 e s_=0 por modelo:\",\n",
    "    [\n",
    "        sum([1-m.sample(1,0)[0] for _ in range(n)])/n\n",
    "        for m in model.Models\n",
    "    ]\n",
    ")"
   ]
  },
  {
   "cell_type": "code",
   "execution_count": 116,
   "metadata": {},
   "outputs": [
    {
     "name": "stdout",
     "output_type": "stream",
     "text": [
      "Simulação s=0:  0.994\n",
      "Simulação s=1:  0.994\n"
     ]
    }
   ],
   "source": [
    "n = 1000\n",
    "print(\"Simulação s=0: \", sum([model.sample(0,0)[0] for _ in range(n)])/n)\n",
    "print(\"Simulação s=1: \", sum([model.sample(1,0)[0] for _ in range(n)])/n)"
   ]
  }
 ],
 "metadata": {
  "kernelspec": {
   "display_name": "Python 3",
   "language": "python",
   "name": "python3"
  },
  "language_info": {
   "codemirror_mode": {
    "name": "ipython",
    "version": 3
   },
   "file_extension": ".py",
   "mimetype": "text/x-python",
   "name": "python",
   "nbconvert_exporter": "python",
   "pygments_lexer": "ipython3",
   "version": "3.9.19"
  }
 },
 "nbformat": 4,
 "nbformat_minor": 2
}
