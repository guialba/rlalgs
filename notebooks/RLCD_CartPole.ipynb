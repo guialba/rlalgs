{
 "cells": [
  {
   "cell_type": "code",
   "execution_count": 59,
   "metadata": {},
   "outputs": [],
   "source": [
    "import numpy as np\n",
    "import gymnasium as gym\n",
    "import rlenvs\n",
    "from functools import reduce\n",
    "# from scipy.special import softmax\n",
    "# import pandas as pd\n",
    "\n",
    "from rlcd.model import *\n",
    "\n",
    "cart_velocity_params =  {\"step\": 2, \"size\": 20, \"scale\": .1}\n",
    "pole_angle_params =  {\"step\": 45, \"size\": 20, \"scale\": .0001}\n",
    "angular_velocity_params =  {\"step\": 192, \"size\": 4, \"scale\": .001}"
   ]
  },
  {
   "cell_type": "code",
   "execution_count": 67,
   "metadata": {},
   "outputs": [
    {
     "name": "stdout",
     "output_type": "stream",
     "text": [
      "818\n",
      "(4, 10, 2)\n"
     ]
    }
   ],
   "source": [
    "def discretize(s):\n",
    "    _, cart_velocity, pole_angle, angular_velocity = s # ignore cart_position\n",
    "    def func(val, step, size, scale):\n",
    "        limits = [ i*scale for i in range(-(size-2)//2*step, (size+1)//2*step, step)]\n",
    "        ids = [i for i,v in enumerate(limits) if val<v]\n",
    "        return size-1 if len(ids) == 0 else ids[0]\n",
    "    return (\n",
    "            func(cart_velocity, **cart_velocity_params),\n",
    "            func(pole_angle, **pole_angle_params),\n",
    "            func(angular_velocity, **angular_velocity_params)\n",
    "    )\n",
    "\n",
    "def enumerate_state(factored_state, factor_sizes):\n",
    "    s = np.meshgrid(*[np.arange(f) for f in factor_sizes])\n",
    "    grid = np.vstack([si.ravel() for si in s])\n",
    "    return int(np.argwhere([p==factored_state for p in zip(*grid)])[0][0])\n",
    "\n",
    "def factor_state(enum_state, factor_sizes):\n",
    "    s = np.meshgrid(*[np.arange(f) for f in factor_sizes])\n",
    "    grid = np.vstack([si.ravel() for si in s])\n",
    "    return tuple(int(i) for i in grid[:,enum_state])\n",
    "\n",
    "s = (4,10,2)\n",
    "enum = enumerate_state(s, (20,20,4))\n",
    "print(enum)\n",
    "print(factor_state(enum, (20,20,4)))"
   ]
  },
  {
   "cell_type": "code",
   "execution_count": 84,
   "metadata": {},
   "outputs": [],
   "source": [
    "# env = gym.make(\"custom/CartPole-v1\", render_mode=\"human\")\n",
    "env = gym.make(\"custom/CartPole-v1\")\n",
    "\n",
    "sizes = [cart_velocity_params['size'], pole_angle_params['size'], angular_velocity_params['size']]\n",
    "model = RLCD(np.array([s for s in range(reduce(lambda a,b: a*b, sizes))]).reshape((1, *sizes)), np.array([0,1]))\n",
    "agent = Dyna(model, n=100, alpha=.9, gamma=.9, epsilon=.1)\n"
   ]
  },
  {
   "cell_type": "code",
   "execution_count": 596,
   "metadata": {},
   "outputs": [
    {
     "data": {
      "text/plain": [
       "[(1558, 0),\n",
       " (1555, 0),\n",
       " (1551, 0),\n",
       " (1547, 0),\n",
       " (1543, 0),\n",
       " (1543, 0),\n",
       " (1539, 0),\n",
       " (1535, 0),\n",
       " (1531, 0),\n",
       " (1527, 0)]"
      ]
     },
     "execution_count": 596,
     "metadata": {},
     "output_type": "execute_result"
    }
   ],
   "source": [
    "n=500\n",
    "\n",
    "observation, info = env.reset(masspole=.45, length=1.0)\n",
    "# observation, info = env.reset(seed=82, masspole=.45, length=1.0)\n",
    "\n",
    "hist_s = [enumerate_state(discretize(observation), sizes)]\n",
    "hist_a = []\n",
    "\n",
    "for _ in range(n):\n",
    "    # action = env.action_space.sample()\n",
    "    action = agent.pi()[hist_s[-1]]\n",
    "    # print('action: ', action)\n",
    "    observation,reward, terminated, truncated, info = env.step(action)\n",
    "    # print(\"observation : \",observation);\n",
    "    \n",
    "    hist_s.append(enumerate_state(discretize(observation), sizes))\n",
    "    hist_a.append(int(action))\n",
    "\n",
    "    if terminated or truncated:\n",
    "        break\n",
    "        # observation, info = env.reset()\n",
    "        \n",
    "env.close()\n",
    "\n",
    "[(s,a) for s,a in zip(hist_s, hist_a)]"
   ]
  }
 ],
 "metadata": {
  "kernelspec": {
   "display_name": ".venv",
   "language": "python",
   "name": "python3"
  },
  "language_info": {
   "codemirror_mode": {
    "name": "ipython",
    "version": 3
   },
   "file_extension": ".py",
   "mimetype": "text/x-python",
   "name": "python",
   "nbconvert_exporter": "python",
   "pygments_lexer": "ipython3",
   "version": "3.9.19"
  }
 },
 "nbformat": 4,
 "nbformat_minor": 2
}
