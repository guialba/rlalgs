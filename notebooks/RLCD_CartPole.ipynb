{
 "cells": [
  {
   "cell_type": "code",
   "execution_count": 2,
   "metadata": {},
   "outputs": [],
   "source": [
    "import numpy as np\n",
    "import gymnasium as gym\n",
    "import rlenvs\n",
    "\n",
    "# from scipy.special import softmax\n",
    "# import pandas as pd\n",
    "\n",
    "from rlcd.model import *"
   ]
  },
  {
   "cell_type": "code",
   "execution_count": 3,
   "metadata": {},
   "outputs": [],
   "source": [
    "def discretize(s):\n",
    "    cart_position, cart_velocity, pole_angle, angular_velocity = s\n",
    "    \n",
    "    def func(val, step=5, size=20, scale=.001):\n",
    "        limits = [ i*scale for i in range(-(size-2)//2*step, (size+1)//2*step, step)]\n",
    "        ids = [i for i,v in enumerate(limits) if val<v]\n",
    "        return size-1 if len(ids) == 0 else ids[0]\n",
    "    \n",
    "    cart_velocity_params =  {\"step\": 2, \"size\": 20, \"scale\": .1}\n",
    "    pole_angle_params =  {\"step\": 45, \"size\": 20, \"scale\": .0001}\n",
    "    angular_velocity_params =  {\"step\": 192, \"size\": 4, \"scale\": .001}\n",
    "    \n",
    "    return (0, \n",
    "            func(cart_velocity, **cart_velocity_params),\n",
    "            func(pole_angle, **pole_angle_params),\n",
    "            func(angular_velocity, **angular_velocity_params)\n",
    "    )\n"
   ]
  },
  {
   "cell_type": "code",
   "execution_count": 19,
   "metadata": {},
   "outputs": [
    {
     "data": {
      "text/plain": [
       "array(Discrete(2), dtype=object)"
      ]
     },
     "execution_count": 19,
     "metadata": {},
     "output_type": "execute_result"
    }
   ],
   "source": [
    "np.array(env.action_space)\n",
    "# env.action_space"
   ]
  },
  {
   "cell_type": "code",
   "execution_count": 13,
   "metadata": {},
   "outputs": [
    {
     "name": "stderr",
     "output_type": "stream",
     "text": [
      "/home/gui/Área de Trabalho/rlalgs/.venv/lib/python3.9/site-packages/gymnasium/utils/passive_env_checker.py:168: DeprecationWarning: \u001b[33mWARN: Current gymnasium version requires that `Env.reset` can be passed a `seed` instead of using `Env.seed` for resetting the environment random number generator.\u001b[0m\n",
      "  logger.deprecation(\n",
      "/home/gui/Área de Trabalho/rlalgs/.venv/lib/python3.9/site-packages/gymnasium/utils/passive_env_checker.py:181: DeprecationWarning: \u001b[33mWARN: Current gymnasium version requires that `Env.reset` can be passed `options` to allow the environment initialisation to be passed additional information.\u001b[0m\n",
      "  logger.deprecation(\n"
     ]
    }
   ],
   "source": [
    "n=500\n",
    "\n",
    "# env = gym.make(\"custom/CartPole-v1\", render_mode=\"human\")\n",
    "env = gym.make(\"custom/CartPole-v1\")\n",
    "env.action_space.seed(82)\n",
    "\n",
    "model = RLCD(np.array([s for s in range(2)]), np.array([0,1]))\n",
    "agent = Dyna(model, n=100, alpha=.9, gamma=.9, epsilon=.1)\n",
    "\n",
    "observation, info = env.reset(seed=82, masspole=.45, length=1.0)\n",
    "hist_s = [discretize(observation)]\n",
    "hist_a = []"
   ]
  },
  {
   "cell_type": "code",
   "execution_count": null,
   "metadata": {},
   "outputs": [],
   "source": [
    "for _ in range(n):\n",
    "    # action = env.action_space.sample()\n",
    "    action = agent.pi(hist_s[-1])\n",
    "    # print('action: ', action)\n",
    "    observation,reward, terminated, truncated, info = env.step(action)\n",
    "    # print(\"observation : \",observation);\n",
    "    \n",
    "    hist_s.append(discretize(observation))\n",
    "    hist_a.append(action)\n",
    "\n",
    "    if terminated or truncated:\n",
    "        break\n",
    "        # observation, info = env.reset()\n",
    "        \n",
    "env.close()"
   ]
  },
  {
   "cell_type": "code",
   "execution_count": 112,
   "metadata": {},
   "outputs": [
    {
     "data": {
      "text/plain": [
       "1"
      ]
     },
     "execution_count": 112,
     "metadata": {},
     "output_type": "execute_result"
    }
   ],
   "source": [
    "# model = RLCD([0,1], [0], Emin=-0.000001)\n",
    "model = RLCD([0,1], [0])\n",
    "\n",
    "s = None\n",
    "for s_ in data:\n",
    "    if s is None:\n",
    "        pass\n",
    "    else:\n",
    "        model.learn(s,0,s_,0, log=False)\n",
    "    s = s_\n",
    "\n",
    "model.sample(0,0)[0]"
   ]
  },
  {
   "cell_type": "code",
   "execution_count": 113,
   "metadata": {},
   "outputs": [
    {
     "data": {
      "text/plain": [
       "3.0"
      ]
     },
     "execution_count": 113,
     "metadata": {},
     "output_type": "execute_result"
    }
   ],
   "source": [
    "float(np.float64(3.0))"
   ]
  },
  {
   "cell_type": "code",
   "execution_count": 114,
   "metadata": {},
   "outputs": [
    {
     "name": "stdout",
     "output_type": "stream",
     "text": [
      "# p/ modelo:  [906, 798, 295]\n",
      "s=0 e s_=1 por modelo: # [0.0, 100.0, 0.0] p= [0.5, 0.999, 0.001]\n",
      "s=1 e s_=1 por modelo: # [100.0, 0.0, 0.0] p= [1.0, 0.0, 0.5]\n",
      "s=0 e s_=0 por modelo: # [0.0, 1.0, 100.0] p= [0.5, 0.001, 0.999]\n",
      "s=1 e s_=0 por modelo: # [0.0, 100.0, 0.0] p= [0.0, 1.0, 0.5]\n"
     ]
    }
   ],
   "source": [
    "print(\"# p/ modelo: \", [m.N for m in model.Models])\n",
    "print(\n",
    "    \"s=0 e s_=1 por modelo:\",\n",
    "    '#', [float(round(m.t.n[0,0,1],3)) for m in model.Models],\n",
    "    'p=', [float(round(m.t.v[0,0,1],3)) for m in model.Models]\n",
    "\n",
    ")\n",
    "\n",
    "print(\n",
    "    \"s=1 e s_=1 por modelo:\",\n",
    "    '#', [float(round(m.t.n[1,0,1],3)) for m in model.Models],\n",
    "    'p=', [float(round(m.t.v[1,0,1],3)) for m in model.Models]\n",
    ")\n",
    "print(\n",
    "    \"s=0 e s_=0 por modelo:\",\n",
    "    '#', [float(round(m.t.n[0,0,0],3)) for m in model.Models],\n",
    "    'p=', [float(round(m.t.v[0,0,0],3)) for m in model.Models]\n",
    ")\n",
    "\n",
    "print(\n",
    "    \"s=1 e s_=0 por modelo:\",\n",
    "    '#', [float(round(m.t.n[1,0,0],3)) for m in model.Models],\n",
    "    'p=', [float(round(m.t.v[1,0,0],3)) for m in model.Models]\n",
    ")"
   ]
  },
  {
   "cell_type": "markdown",
   "metadata": {},
   "source": [
    "# Samples"
   ]
  },
  {
   "cell_type": "code",
   "execution_count": 115,
   "metadata": {},
   "outputs": [
    {
     "name": "stdout",
     "output_type": "stream",
     "text": [
      "# p/ modelo:  [906, 798, 295]\n",
      "Prob. s=0 e s_=1 por modelo: [0.509, 1.0, 0.001]\n",
      "Prob. s=1 e s_=1 por modelo: [1.0, 0.0, 0.5]\n",
      "Prob. s=0 e s_=0 por modelo: [0.513, 0.001, 0.999]\n",
      "Prob. s=1 e s_=0 por modelo: [0.0, 0.999, 0.495]\n"
     ]
    }
   ],
   "source": [
    "print(\"# p/ modelo: \", [m.N for m in model.Models])\n",
    "\n",
    "n = 1000\n",
    "print(\n",
    "    \"Prob. s=0 e s_=1 por modelo:\",\n",
    "    [\n",
    "        sum([m.sample(0,0)[0] for _ in range(n)])/n\n",
    "        for m in model.Models\n",
    "    ]\n",
    ")\n",
    "\n",
    "print(\n",
    "    \"Prob. s=1 e s_=1 por modelo:\",\n",
    "    [\n",
    "        sum([m.sample(1,0)[0] for _ in range(n)])/n\n",
    "        for m in model.Models\n",
    "    ]\n",
    ")\n",
    "print(\n",
    "    \"Prob. s=0 e s_=0 por modelo:\",\n",
    "    [\n",
    "        sum([1-m.sample(0,0)[0] for _ in range(n)])/n\n",
    "        for m in model.Models\n",
    "    ]\n",
    ")\n",
    "\n",
    "print(\n",
    "    \"Prob. s=1 e s_=0 por modelo:\",\n",
    "    [\n",
    "        sum([1-m.sample(1,0)[0] for _ in range(n)])/n\n",
    "        for m in model.Models\n",
    "    ]\n",
    ")"
   ]
  },
  {
   "cell_type": "code",
   "execution_count": 116,
   "metadata": {},
   "outputs": [
    {
     "name": "stdout",
     "output_type": "stream",
     "text": [
      "Simulação s=0:  0.994\n",
      "Simulação s=1:  0.994\n"
     ]
    }
   ],
   "source": [
    "n = 1000\n",
    "print(\"Simulação s=0: \", sum([model.sample(0,0)[0] for _ in range(n)])/n)\n",
    "print(\"Simulação s=1: \", sum([model.sample(1,0)[0] for _ in range(n)])/n)"
   ]
  }
 ],
 "metadata": {
  "kernelspec": {
   "display_name": "Python 3",
   "language": "python",
   "name": "python3"
  },
  "language_info": {
   "codemirror_mode": {
    "name": "ipython",
    "version": 3
   },
   "file_extension": ".py",
   "mimetype": "text/x-python",
   "name": "python",
   "nbconvert_exporter": "python",
   "pygments_lexer": "ipython3",
   "version": "3.9.19"
  }
 },
 "nbformat": 4,
 "nbformat_minor": 2
}
