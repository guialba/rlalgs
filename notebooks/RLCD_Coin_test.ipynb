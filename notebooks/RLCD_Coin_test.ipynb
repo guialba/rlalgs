{
 "cells": [
  {
   "cell_type": "code",
   "execution_count": 69,
   "metadata": {},
   "outputs": [],
   "source": [
    "import numpy as np\n",
    "# from scipy.special import softmax\n",
    "# import pandas as pd\n",
    "\n",
    "from rlcd.model import *"
   ]
  },
  {
   "cell_type": "code",
   "execution_count": 70,
   "metadata": {},
   "outputs": [
    {
     "name": "stdout",
     "output_type": "stream",
     "text": [
      "<rlcd.model.Estimator_R object at 0x7f278b5c1b80>\n",
      "<rlcd.model.Estimator_T object at 0x7f278b5c11c0>\n",
      "<rlcd.model.Model object at 0x7f278b5c1340>\n",
      "<rlcd.model.RLCD object at 0x7f278b488670>\n"
     ]
    }
   ],
   "source": [
    "estR = Estimator_R(100, 5,3)\n",
    "estT = Estimator_T(100, 5,3)\n",
    "model = Model(range(10), range(4))\n",
    "agent = RLCD(range(10), range(4))\n",
    "\n",
    "print(estR)\n",
    "print(estT)\n",
    "print(model)\n",
    "print(agent)"
   ]
  },
  {
   "cell_type": "code",
   "execution_count": 71,
   "metadata": {},
   "outputs": [
    {
     "name": "stdout",
     "output_type": "stream",
     "text": [
      "[0 0 1 ... 0 0 0]\n",
      "Prob. Real:     0.65\n",
      "Prob. Amostra:  0.6355\n"
     ]
    }
   ],
   "source": [
    "p1, p2 = .8, .5\n",
    "n = 1000\n",
    "\n",
    "c1 = np.random.choice(2, n, p=[1-p1, p1])\n",
    "c2 = np.random.choice(2, n, p=[1-p2, p2])\n",
    "\n",
    "data = np.concatenate([c1,c2])\n",
    "\n",
    "print(data)\n",
    "print('Prob. Real:    ', (p1 + p2) / 2)\n",
    "print('Prob. Amostra: ', data.sum() / data.size)"
   ]
  },
  {
   "cell_type": "code",
   "execution_count": 72,
   "metadata": {},
   "outputs": [
    {
     "name": "stdout",
     "output_type": "stream",
     "text": [
      "Estimadores Treinados com Segmentção Manual: \n",
      "s=0 e s_=1\n",
      "Estimador 1 (166.0):  0.798  P1:  0.8 Erro:  0.002\n",
      "Estimador 2 (238.0):  0.456  P2:  0.5 Erro:  0.044\n"
     ]
    }
   ],
   "source": [
    "est1 = Estimator_T(1e6, 2, 1, 2)\n",
    "est2 = Estimator_T(1e6, 2, 1, 2)\n",
    "s = None\n",
    "for i, s_ in enumerate(data):\n",
    "    if s is None:\n",
    "        pass\n",
    "    else:\n",
    "        if i < n:\n",
    "            est1.train(1, s,0,s_)\n",
    "        else:\n",
    "            est2.train(1, s,0,s_)\n",
    "        # print(s, s_, ':',round(est1.e(1,s,0,s_), 3), round(est2.e(1,s,0,s_), 3))\n",
    "\n",
    "    s = s_\n",
    "\n",
    "\n",
    "e1 = round(est1.predict(0, 0, 1), 3)\n",
    "e2 = round(est2.predict(0, 0, 1), 3)\n",
    "\n",
    "print(\"Estimadores Treinados com Segmentção Manual: \")\n",
    "print(f\"s=0 e s_=1\")\n",
    "e1 = round(est1.predict(0, 0, 1), 3)\n",
    "e2 = round(est2.predict(0, 0, 1), 3)\n",
    "print(f\"Estimador 1 ({est1.n[0,0,1]}): \", e1, \" P1: \", p1, \"Erro: \", round(abs(p1-e1),3))\n",
    "print(f\"Estimador 2 ({est2.n[0,0,1]}): \", e2, \" P2: \", p2, \"Erro: \", round(abs(p2-e2),3))\n"
   ]
  },
  {
   "cell_type": "code",
   "execution_count": null,
   "metadata": {},
   "outputs": [],
   "source": [
    "# print(f\"s=1 e s_=1\")\n",
    "# e1 = round(est1.predict(1, 0, 1), 3)\n",
    "# e2 = round(est2.predict(1, 0, 1), 3)\n",
    "# print(f\"Estimador 1 ({est1.n[1,0,1]}): \", e1, \" P1: \", p1, \" Erro: \", round(abs(p1-e1),3))\n",
    "# print(f\"Estimador 2 ({est2.n[1,0,1]}): \", e2, \" P2: \", p2, \" Erro: \", round(abs(p2-e2),3))\n",
    "\n",
    "# print(f\"s=0 e s_=0\")\n",
    "# e1 = round(est1.predict(0, 0, 0), 3)\n",
    "# e2 = round(est2.predict(0, 0, 1), 3)\n",
    "# print(f\"Estimador 1 ({est1.n[0,0,0]}): \", e1, \" P1: \", p1, \"Erro: \", round(abs(p1-e1),3))\n",
    "# print(f\"Estimador 2 ({est2.n[0,0,0]}): \", e2, \" P2: \", p2, \"Erro: \", round(abs(p2-e2),3))\n",
    "\n",
    "# print(f\"s=1 e s_=0\")\n",
    "# e1 = round(est1.predict(1, 0, 0), 3)\n",
    "# e2 = round(est2.predict(1, 0, 0), 3)\n",
    "# print(f\"Estimador 1 ({est1.n[1,0,0]}): \", e1, \" P1: \", p1, \" Erro: \", round(abs(p1-e1),3))\n",
    "# print(f\"Estimador 2 ({est2.n[1,0,0]}): \", e2, \" P2: \", p2, \" Erro: \", round(abs(p2-e2),3))"
   ]
  },
  {
   "cell_type": "code",
   "execution_count": 73,
   "metadata": {},
   "outputs": [
    {
     "data": {
      "text/plain": [
       "1"
      ]
     },
     "execution_count": 73,
     "metadata": {},
     "output_type": "execute_result"
    }
   ],
   "source": [
    "model = RLCD([0,1], [0])\n",
    "\n",
    "s = None\n",
    "for s_ in data:\n",
    "    if s is None:\n",
    "        pass\n",
    "    else:\n",
    "        model.learn(s,0,s_,0, log=False)\n",
    "    s = s_\n",
    "\n",
    "model.sample(0,0)[0]"
   ]
  },
  {
   "cell_type": "code",
   "execution_count": 74,
   "metadata": {},
   "outputs": [
    {
     "name": "stdout",
     "output_type": "stream",
     "text": [
      "# p/ modelo:  [1278, 721]\n"
     ]
    }
   ],
   "source": [
    "print(\"# p/ modelo: \", [m.N for m in model.Models])"
   ]
  },
  {
   "cell_type": "code",
   "execution_count": 75,
   "metadata": {},
   "outputs": [
    {
     "name": "stdout",
     "output_type": "stream",
     "text": [
      "# p/ modelo:  [1278, 721]\n",
      "Prob. s=0 e s_=1 por modelo: [0.71, 0.259]\n",
      "Prob. s=1 e s_=1 por modelo: [0.738, 0.274]\n"
     ]
    }
   ],
   "source": [
    "print(\"# p/ modelo: \", [m.N for m in model.Models])\n",
    "\n",
    "n = 1000\n",
    "print(\n",
    "    \"Prob. s=0 e s_=1 por modelo:\",\n",
    "    [\n",
    "        sum([m.sample(0,0)[0] for _ in range(n)])/n\n",
    "        for m in model.Models\n",
    "    ]\n",
    ")\n",
    "\n",
    "print(\n",
    "    \"Prob. s=1 e s_=1 por modelo:\",\n",
    "    [\n",
    "        sum([m.sample(1,0)[0] for _ in range(n)])/n\n",
    "        for m in model.Models\n",
    "    ]\n",
    ")"
   ]
  },
  {
   "cell_type": "code",
   "execution_count": 1,
   "metadata": {},
   "outputs": [],
   "source": [
    "# ALTERAR O TREINO DO ESTIMADOR_T:\n",
    "# ATUALIZAR TODO K NO TREINO e NÃO APENAS NO CALCULO DO DELTA"
   ]
  },
  {
   "cell_type": "code",
   "execution_count": 76,
   "metadata": {},
   "outputs": [
    {
     "name": "stdout",
     "output_type": "stream",
     "text": [
      "Simulação s=0:  0.509\n",
      "Simulação s=1:  0.508\n"
     ]
    }
   ],
   "source": [
    "n = 1000\n",
    "print(\"Simulação s=0: \", sum([model.sample(0,0)[0] for _ in range(n)])/n)\n",
    "print(\"Simulação s=1: \", sum([model.sample(1,0)[0] for _ in range(n)])/n)"
   ]
  }
 ],
 "metadata": {
  "kernelspec": {
   "display_name": "Python 3",
   "language": "python",
   "name": "python3"
  },
  "language_info": {
   "codemirror_mode": {
    "name": "ipython",
    "version": 3
   },
   "file_extension": ".py",
   "mimetype": "text/x-python",
   "name": "python",
   "nbconvert_exporter": "python",
   "pygments_lexer": "ipython3",
   "version": "3.9.19"
  }
 },
 "nbformat": 4,
 "nbformat_minor": 2
}
