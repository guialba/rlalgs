{
 "cells": [
  {
   "cell_type": "code",
   "execution_count": 2,
   "metadata": {},
   "outputs": [
    {
     "data": {
      "text/html": [
       "<div>\n",
       "<style scoped>\n",
       "    .dataframe tbody tr th:only-of-type {\n",
       "        vertical-align: middle;\n",
       "    }\n",
       "\n",
       "    .dataframe tbody tr th {\n",
       "        vertical-align: top;\n",
       "    }\n",
       "\n",
       "    .dataframe thead th {\n",
       "        text-align: right;\n",
       "    }\n",
       "</style>\n",
       "<table border=\"1\" class=\"dataframe\">\n",
       "  <thead>\n",
       "    <tr style=\"text-align: right;\">\n",
       "      <th></th>\n",
       "      <th>t</th>\n",
       "      <th>a</th>\n",
       "      <th>cart_position</th>\n",
       "      <th>cart_velocity</th>\n",
       "      <th>pole_angle</th>\n",
       "      <th>pole_angle(degrees)</th>\n",
       "      <th>angular_velocity</th>\n",
       "    </tr>\n",
       "  </thead>\n",
       "  <tbody>\n",
       "    <tr>\n",
       "      <th>0</th>\n",
       "      <td>0</td>\n",
       "      <td>0</td>\n",
       "      <td>0.049764</td>\n",
       "      <td>0.035479</td>\n",
       "      <td>-0.028231</td>\n",
       "      <td>-1.617538</td>\n",
       "      <td>0.048015</td>\n",
       "    </tr>\n",
       "    <tr>\n",
       "      <th>1</th>\n",
       "      <td>1</td>\n",
       "      <td>0</td>\n",
       "      <td>0.050473</td>\n",
       "      <td>-0.154999</td>\n",
       "      <td>-0.027271</td>\n",
       "      <td>-1.562517</td>\n",
       "      <td>0.238604</td>\n",
       "    </tr>\n",
       "    <tr>\n",
       "      <th>2</th>\n",
       "      <td>2</td>\n",
       "      <td>0</td>\n",
       "      <td>0.047373</td>\n",
       "      <td>-0.345488</td>\n",
       "      <td>-0.022499</td>\n",
       "      <td>-1.289097</td>\n",
       "      <td>0.429409</td>\n",
       "    </tr>\n",
       "    <tr>\n",
       "      <th>3</th>\n",
       "      <td>3</td>\n",
       "      <td>0</td>\n",
       "      <td>0.040464</td>\n",
       "      <td>-0.536029</td>\n",
       "      <td>-0.013911</td>\n",
       "      <td>-0.797031</td>\n",
       "      <td>0.621270</td>\n",
       "    </tr>\n",
       "    <tr>\n",
       "      <th>4</th>\n",
       "      <td>4</td>\n",
       "      <td>1</td>\n",
       "      <td>0.029743</td>\n",
       "      <td>-0.726658</td>\n",
       "      <td>-0.001485</td>\n",
       "      <td>-0.085108</td>\n",
       "      <td>0.815011</td>\n",
       "    </tr>\n",
       "  </tbody>\n",
       "</table>\n",
       "</div>"
      ],
      "text/plain": [
       "   t  a  cart_position  cart_velocity  pole_angle  pole_angle(degrees)  \\\n",
       "0  0  0       0.049764       0.035479   -0.028231            -1.617538   \n",
       "1  1  0       0.050473      -0.154999   -0.027271            -1.562517   \n",
       "2  2  0       0.047373      -0.345488   -0.022499            -1.289097   \n",
       "3  3  0       0.040464      -0.536029   -0.013911            -0.797031   \n",
       "4  4  1       0.029743      -0.726658   -0.001485            -0.085108   \n",
       "\n",
       "   angular_velocity  \n",
       "0          0.048015  \n",
       "1          0.238604  \n",
       "2          0.429409  \n",
       "3          0.621270  \n",
       "4          0.815011  "
      ]
     },
     "execution_count": 2,
     "metadata": {},
     "output_type": "execute_result"
    }
   ],
   "source": [
    "\n",
    "import pandas as pd\n",
    "import numpy as np\n",
    "import math\n",
    "\n",
    "\n",
    "df = pd.read_csv('data.csv')\n",
    "\n",
    "df[\"pole_angle(degrees)\"] = df.pole_angle * 180/math.pi\n",
    "df = df[['t', 'a', 'cart_position', 'cart_velocity', 'pole_angle', 'pole_angle(degrees)', 'angular_velocity']]\n",
    "df.head()"
   ]
  },
  {
   "cell_type": "code",
   "execution_count": 3,
   "metadata": {},
   "outputs": [
    {
     "data": {
      "text/html": [
       "<div>\n",
       "<style scoped>\n",
       "    .dataframe tbody tr th:only-of-type {\n",
       "        vertical-align: middle;\n",
       "    }\n",
       "\n",
       "    .dataframe tbody tr th {\n",
       "        vertical-align: top;\n",
       "    }\n",
       "\n",
       "    .dataframe thead th {\n",
       "        text-align: right;\n",
       "    }\n",
       "</style>\n",
       "<table border=\"1\" class=\"dataframe\">\n",
       "  <thead>\n",
       "    <tr style=\"text-align: right;\">\n",
       "      <th></th>\n",
       "      <th>t</th>\n",
       "      <th>a</th>\n",
       "      <th>cart_position</th>\n",
       "      <th>cart_velocity</th>\n",
       "      <th>pole_angle</th>\n",
       "      <th>pole_angle(degrees)</th>\n",
       "      <th>angular_velocity</th>\n",
       "    </tr>\n",
       "  </thead>\n",
       "  <tbody>\n",
       "    <tr>\n",
       "      <th>min</th>\n",
       "      <td>0.0000</td>\n",
       "      <td>0.00000</td>\n",
       "      <td>-2.393178</td>\n",
       "      <td>-1.631603</td>\n",
       "      <td>-0.138706</td>\n",
       "      <td>-7.947268</td>\n",
       "      <td>-1.179154</td>\n",
       "    </tr>\n",
       "    <tr>\n",
       "      <th>max</th>\n",
       "      <td>285.0000</td>\n",
       "      <td>1.00000</td>\n",
       "      <td>0.621268</td>\n",
       "      <td>0.787421</td>\n",
       "      <td>0.062357</td>\n",
       "      <td>3.572786</td>\n",
       "      <td>0.815011</td>\n",
       "    </tr>\n",
       "    <tr>\n",
       "      <th>std</th>\n",
       "      <td>82.7053</td>\n",
       "      <td>0.50057</td>\n",
       "      <td>0.943957</td>\n",
       "      <td>0.643122</td>\n",
       "      <td>0.048111</td>\n",
       "      <td>2.756585</td>\n",
       "      <td>0.278186</td>\n",
       "    </tr>\n",
       "  </tbody>\n",
       "</table>\n",
       "</div>"
      ],
      "text/plain": [
       "            t        a  cart_position  cart_velocity  pole_angle  \\\n",
       "min    0.0000  0.00000      -2.393178      -1.631603   -0.138706   \n",
       "max  285.0000  1.00000       0.621268       0.787421    0.062357   \n",
       "std   82.7053  0.50057       0.943957       0.643122    0.048111   \n",
       "\n",
       "     pole_angle(degrees)  angular_velocity  \n",
       "min            -7.947268         -1.179154  \n",
       "max             3.572786          0.815011  \n",
       "std             2.756585          0.278186  "
      ]
     },
     "execution_count": 3,
     "metadata": {},
     "output_type": "execute_result"
    }
   ],
   "source": [
    "df.describe().loc[['min', 'max', 'std']]"
   ]
  },
  {
   "cell_type": "markdown",
   "metadata": {},
   "source": [
    "# Cart Velocity"
   ]
  },
  {
   "cell_type": "code",
   "execution_count": 62,
   "metadata": {},
   "outputs": [
    {
     "data": {
      "text/html": [
       "<div>\n",
       "<style scoped>\n",
       "    .dataframe tbody tr th:only-of-type {\n",
       "        vertical-align: middle;\n",
       "    }\n",
       "\n",
       "    .dataframe tbody tr th {\n",
       "        vertical-align: top;\n",
       "    }\n",
       "\n",
       "    .dataframe thead th {\n",
       "        text-align: right;\n",
       "    }\n",
       "</style>\n",
       "<table border=\"1\" class=\"dataframe\">\n",
       "  <thead>\n",
       "    <tr style=\"text-align: right;\">\n",
       "      <th></th>\n",
       "      <th>cart_velocity(diff)</th>\n",
       "    </tr>\n",
       "  </thead>\n",
       "  <tbody>\n",
       "    <tr>\n",
       "      <th>min</th>\n",
       "      <td>-0.191727</td>\n",
       "    </tr>\n",
       "    <tr>\n",
       "      <th>max</th>\n",
       "      <td>0.191236</td>\n",
       "    </tr>\n",
       "    <tr>\n",
       "      <th>mean</th>\n",
       "      <td>0.005798</td>\n",
       "    </tr>\n",
       "    <tr>\n",
       "      <th>std</th>\n",
       "      <td>0.190542</td>\n",
       "    </tr>\n",
       "  </tbody>\n",
       "</table>\n",
       "</div>"
      ],
      "text/plain": [
       "      cart_velocity(diff)\n",
       "min             -0.191727\n",
       "max              0.191236\n",
       "mean             0.005798\n",
       "std              0.190542"
      ]
     },
     "execution_count": 62,
     "metadata": {},
     "output_type": "execute_result"
    }
   ],
   "source": [
    "df['cart_velocity(diff)'] = np.append(df.cart_velocity[:-1].values - df.cart_velocity[1:].values, [0])\n",
    "df[['cart_velocity(diff)']].describe().loc[['min', 'max', 'mean', 'std']]"
   ]
  },
  {
   "cell_type": "code",
   "execution_count": 66,
   "metadata": {},
   "outputs": [
    {
     "data": {
      "text/html": [
       "<div>\n",
       "<style scoped>\n",
       "    .dataframe tbody tr th:only-of-type {\n",
       "        vertical-align: middle;\n",
       "    }\n",
       "\n",
       "    .dataframe tbody tr th {\n",
       "        vertical-align: top;\n",
       "    }\n",
       "\n",
       "    .dataframe thead th {\n",
       "        text-align: right;\n",
       "    }\n",
       "</style>\n",
       "<table border=\"1\" class=\"dataframe\">\n",
       "  <thead>\n",
       "    <tr style=\"text-align: right;\">\n",
       "      <th></th>\n",
       "      <th>cart_velocity(diff)</th>\n",
       "      <th>a</th>\n",
       "    </tr>\n",
       "  </thead>\n",
       "  <tbody>\n",
       "    <tr>\n",
       "      <th>0</th>\n",
       "      <td>0.190478</td>\n",
       "      <td>0</td>\n",
       "    </tr>\n",
       "    <tr>\n",
       "      <th>1</th>\n",
       "      <td>0.190489</td>\n",
       "      <td>0</td>\n",
       "    </tr>\n",
       "    <tr>\n",
       "      <th>2</th>\n",
       "      <td>0.190541</td>\n",
       "      <td>0</td>\n",
       "    </tr>\n",
       "    <tr>\n",
       "      <th>3</th>\n",
       "      <td>0.190629</td>\n",
       "      <td>0</td>\n",
       "    </tr>\n",
       "    <tr>\n",
       "      <th>4</th>\n",
       "      <td>-0.190773</td>\n",
       "      <td>1</td>\n",
       "    </tr>\n",
       "    <tr>\n",
       "      <th>5</th>\n",
       "      <td>-0.190620</td>\n",
       "      <td>1</td>\n",
       "    </tr>\n",
       "    <tr>\n",
       "      <th>6</th>\n",
       "      <td>-0.190493</td>\n",
       "      <td>1</td>\n",
       "    </tr>\n",
       "    <tr>\n",
       "      <th>7</th>\n",
       "      <td>-0.190402</td>\n",
       "      <td>1</td>\n",
       "    </tr>\n",
       "    <tr>\n",
       "      <th>8</th>\n",
       "      <td>0.191127</td>\n",
       "      <td>0</td>\n",
       "    </tr>\n",
       "    <tr>\n",
       "      <th>9</th>\n",
       "      <td>0.191132</td>\n",
       "      <td>0</td>\n",
       "    </tr>\n",
       "  </tbody>\n",
       "</table>\n",
       "</div>"
      ],
      "text/plain": [
       "   cart_velocity(diff)  a\n",
       "0             0.190478  0\n",
       "1             0.190489  0\n",
       "2             0.190541  0\n",
       "3             0.190629  0\n",
       "4            -0.190773  1\n",
       "5            -0.190620  1\n",
       "6            -0.190493  1\n",
       "7            -0.190402  1\n",
       "8             0.191127  0\n",
       "9             0.191132  0"
      ]
     },
     "execution_count": 66,
     "metadata": {},
     "output_type": "execute_result"
    }
   ],
   "source": [
    "df[['cart_velocity(diff)', 'a']].head(10)"
   ]
  },
  {
   "cell_type": "code",
   "execution_count": 58,
   "metadata": {},
   "outputs": [
    {
     "name": "stdout",
     "output_type": "stream",
     "text": [
      "[0, 1, 2, 3, 4, 5, 6, 7, 8, 9, 10, 11, 12, 13, 14, 15, 16, 17, 18, 19]\n"
     ]
    },
    {
     "data": {
      "text/plain": [
       "True"
      ]
     },
     "execution_count": 58,
     "metadata": {},
     "output_type": "execute_result"
    }
   ],
   "source": [
    "vel_test = [-20.0] + [n/10 for n in range(-17, 19, 2)] + [10.0]\n",
    "vel_vali = [0] + [i for i in range(1,19)] + [19]\n",
    "\n",
    "def discretize_cart_velocity(val, factor=0.2, size=20):\n",
    "    limit = (factor*size/2)\n",
    "    if val < -limit: return 0\n",
    "    elif val > limit: return size-1\n",
    "    else: return int((val + factor*size/2)//factor)\n",
    "\n",
    "values =  [discretize_cart_velocity(t) for t,v in zip(vel_test, vel_vali)]\n",
    "\n",
    "print(values)\n",
    "all([d == v for d, v in zip(values, vel_vali)])"
   ]
  },
  {
   "cell_type": "markdown",
   "metadata": {},
   "source": [
    "# Pole Angle"
   ]
  },
  {
   "cell_type": "code",
   "execution_count": 69,
   "metadata": {},
   "outputs": [
    {
     "data": {
      "text/html": [
       "<div>\n",
       "<style scoped>\n",
       "    .dataframe tbody tr th:only-of-type {\n",
       "        vertical-align: middle;\n",
       "    }\n",
       "\n",
       "    .dataframe tbody tr th {\n",
       "        vertical-align: top;\n",
       "    }\n",
       "\n",
       "    .dataframe thead th {\n",
       "        text-align: right;\n",
       "    }\n",
       "</style>\n",
       "<table border=\"1\" class=\"dataframe\">\n",
       "  <thead>\n",
       "    <tr style=\"text-align: right;\">\n",
       "      <th></th>\n",
       "      <th>pole_angle(diff)</th>\n",
       "      <th>pole_angle(deg_diff)</th>\n",
       "    </tr>\n",
       "  </thead>\n",
       "  <tbody>\n",
       "    <tr>\n",
       "      <th>min</th>\n",
       "      <td>-0.016300</td>\n",
       "      <td>-0.933934</td>\n",
       "    </tr>\n",
       "    <tr>\n",
       "      <th>max</th>\n",
       "      <td>0.023583</td>\n",
       "      <td>1.351211</td>\n",
       "    </tr>\n",
       "    <tr>\n",
       "      <th>mean</th>\n",
       "      <td>0.000345</td>\n",
       "      <td>0.019738</td>\n",
       "    </tr>\n",
       "    <tr>\n",
       "      <th>std</th>\n",
       "      <td>0.005526</td>\n",
       "      <td>0.316626</td>\n",
       "    </tr>\n",
       "  </tbody>\n",
       "</table>\n",
       "</div>"
      ],
      "text/plain": [
       "      pole_angle(diff)  pole_angle(deg_diff)\n",
       "min          -0.016300             -0.933934\n",
       "max           0.023583              1.351211\n",
       "mean          0.000345              0.019738\n",
       "std           0.005526              0.316626"
      ]
     },
     "execution_count": 69,
     "metadata": {},
     "output_type": "execute_result"
    }
   ],
   "source": [
    "df['pole_angle(diff)'] = np.append(df.pole_angle[:-1].values - df.pole_angle[1:].values, [0])\n",
    "df['pole_angle(deg_diff)'] = np.append(df['pole_angle(degrees)'][:-1].values - df['pole_angle(degrees)'][1:].values, [0])\n",
    "df[['pole_angle(diff)', 'pole_angle(deg_diff)']].describe().loc[['min', 'max', 'mean', 'std']]"
   ]
  },
  {
   "cell_type": "code",
   "execution_count": 68,
   "metadata": {},
   "outputs": [
    {
     "data": {
      "text/html": [
       "<div>\n",
       "<style scoped>\n",
       "    .dataframe tbody tr th:only-of-type {\n",
       "        vertical-align: middle;\n",
       "    }\n",
       "\n",
       "    .dataframe tbody tr th {\n",
       "        vertical-align: top;\n",
       "    }\n",
       "\n",
       "    .dataframe thead th {\n",
       "        text-align: right;\n",
       "    }\n",
       "</style>\n",
       "<table border=\"1\" class=\"dataframe\">\n",
       "  <thead>\n",
       "    <tr style=\"text-align: right;\">\n",
       "      <th></th>\n",
       "      <th>pole_angle(diff)</th>\n",
       "      <th>a</th>\n",
       "    </tr>\n",
       "  </thead>\n",
       "  <tbody>\n",
       "    <tr>\n",
       "      <th>0</th>\n",
       "      <td>-0.000960</td>\n",
       "      <td>0</td>\n",
       "    </tr>\n",
       "    <tr>\n",
       "      <th>1</th>\n",
       "      <td>-0.004772</td>\n",
       "      <td>0</td>\n",
       "    </tr>\n",
       "    <tr>\n",
       "      <th>2</th>\n",
       "      <td>-0.008588</td>\n",
       "      <td>0</td>\n",
       "    </tr>\n",
       "    <tr>\n",
       "      <th>3</th>\n",
       "      <td>-0.012425</td>\n",
       "      <td>0</td>\n",
       "    </tr>\n",
       "    <tr>\n",
       "      <th>4</th>\n",
       "      <td>-0.016300</td>\n",
       "      <td>1</td>\n",
       "    </tr>\n",
       "    <tr>\n",
       "      <th>5</th>\n",
       "      <td>-0.012360</td>\n",
       "      <td>1</td>\n",
       "    </tr>\n",
       "    <tr>\n",
       "      <th>6</th>\n",
       "      <td>-0.008489</td>\n",
       "      <td>1</td>\n",
       "    </tr>\n",
       "    <tr>\n",
       "      <th>7</th>\n",
       "      <td>-0.004672</td>\n",
       "      <td>1</td>\n",
       "    </tr>\n",
       "    <tr>\n",
       "      <th>8</th>\n",
       "      <td>-0.000893</td>\n",
       "      <td>0</td>\n",
       "    </tr>\n",
       "    <tr>\n",
       "      <th>9</th>\n",
       "      <td>-0.004993</td>\n",
       "      <td>0</td>\n",
       "    </tr>\n",
       "  </tbody>\n",
       "</table>\n",
       "</div>"
      ],
      "text/plain": [
       "   pole_angle(diff)  a\n",
       "0         -0.000960  0\n",
       "1         -0.004772  0\n",
       "2         -0.008588  0\n",
       "3         -0.012425  0\n",
       "4         -0.016300  1\n",
       "5         -0.012360  1\n",
       "6         -0.008489  1\n",
       "7         -0.004672  1\n",
       "8         -0.000893  0\n",
       "9         -0.004993  0"
      ]
     },
     "execution_count": 68,
     "metadata": {},
     "output_type": "execute_result"
    }
   ],
   "source": [
    "df[['pole_angle(diff)', 'a']].head(10)"
   ]
  },
  {
   "cell_type": "code",
   "execution_count": 77,
   "metadata": {},
   "outputs": [
    {
     "data": {
      "text/plain": [
       "0.05"
      ]
     },
     "execution_count": 77,
     "metadata": {},
     "output_type": "execute_result"
    }
   ],
   "source": [
    "factor=0.005\n",
    "size=20\n",
    "(factor*size/2)"
   ]
  },
  {
   "cell_type": "code",
   "execution_count": 85,
   "metadata": {},
   "outputs": [
    {
     "name": "stdout",
     "output_type": "stream",
     "text": [
      "[0, 0, 0, 0, 0, 0, 1, 1, 1, 1, 1, 2, 2, 2, 2, 2, 2, 3, 3, 3]\n"
     ]
    },
    {
     "data": {
      "text/plain": [
       "False"
      ]
     },
     "execution_count": 85,
     "metadata": {},
     "output_type": "execute_result"
    }
   ],
   "source": [
    "vel_test = [-.1] + [n/1000 for n in range(-50, 50, 1)] + [.1]\n",
    "vel_vali = [0] + [i for i in range(1,19)] + [19]\n",
    "\n",
    "def discretize_pole_angle(val, factor=0.005, size=20):\n",
    "    limit = (factor*size/2)\n",
    "    if val < -limit: return 0\n",
    "    elif val > limit: return size-1\n",
    "    else: return int((val + factor*size/2)//factor)\n",
    "\n",
    "values =  [discretize_pole_angle(t) for t,v in zip(vel_test, vel_vali)]\n",
    "\n",
    "print(values)\n",
    "all([d == v for d, v in zip(values, vel_vali)])"
   ]
  }
 ],
 "metadata": {
  "kernelspec": {
   "display_name": ".venv",
   "language": "python",
   "name": "python3"
  },
  "language_info": {
   "codemirror_mode": {
    "name": "ipython",
    "version": 3
   },
   "file_extension": ".py",
   "mimetype": "text/x-python",
   "name": "python",
   "nbconvert_exporter": "python",
   "pygments_lexer": "ipython3",
   "version": "3.9.19"
  }
 },
 "nbformat": 4,
 "nbformat_minor": 2
}
